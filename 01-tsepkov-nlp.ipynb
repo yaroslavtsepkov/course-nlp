{
  "nbformat": 4,
  "nbformat_minor": 2,
  "metadata": {
    "colab": {
      "name": "01-Tsepkov-NLP.ipynb",
      "provenance": [],
      "collapsed_sections": []
    },
    "kernelspec": {
      "name": "python3",
      "display_name": "Python 3.8.11 64-bit ('NLP': conda)"
    },
    "language_info": {
      "name": "python",
      "version": "3.8.11"
    },
    "interpreter": {
      "hash": "df9bbec2569b082606c2e9863b53bbdd73da955096cd37cd2b615892104792bd"
    }
  },
  "cells": [
    {
      "cell_type": "code",
      "execution_count": null,
      "source": [
        "import os\n",
        "from functools import reduce\n",
        "import nltk\n",
        "from nltk import RegexpTokenizer\n",
        "from nltk import word_tokenize\n",
        "nltk.download('punkt')"
      ],
      "outputs": [
        {
          "output_type": "stream",
          "name": "stdout",
          "text": [
            "[nltk_data] Downloading package punkt to /root/nltk_data...\n",
            "[nltk_data]   Unzipping tokenizers/punkt.zip.\n"
          ]
        },
        {
          "output_type": "execute_result",
          "data": {
            "text/plain": [
              "True"
            ]
          },
          "metadata": {},
          "execution_count": 63
        }
      ],
      "metadata": {
        "id": "jvQnH55LJ5ol",
        "colab": {
          "base_uri": "https://localhost:8080/"
        },
        "outputId": "4404cf68-ab58-46dd-e047-a3312e6f2b6e"
      }
    },
    {
      "cell_type": "markdown",
      "source": [
        "# Task 1"
      ],
      "metadata": {
        "id": "8dFh8FgAKfHe"
      }
    },
    {
      "cell_type": "code",
      "execution_count": null,
      "source": [
        "input_path = os.path.join(\"input_text.txt\")\n",
        "output_path = os.path.join(\"output_text.txt\")\n",
        "input_path, output_path"
      ],
      "outputs": [
        {
          "output_type": "execute_result",
          "data": {
            "text/plain": [
              "('input_text.txt', 'output_text.txt')"
            ]
          },
          "metadata": {},
          "execution_count": 4
        }
      ],
      "metadata": {
        "colab": {
          "base_uri": "https://localhost:8080/"
        },
        "id": "DsgeLc0aVfLp",
        "outputId": "21d9c0de-24e1-40ee-f695-99e5ebe86b69"
      }
    },
    {
      "cell_type": "code",
      "execution_count": null,
      "source": [
        "try:\n",
        "    with open(Path) as f:\n",
        "        try:\n",
        "            text = f.read()\n",
        "        except Exception as e:\n",
        "            print(e)\n",
        "except Exception as e:\n",
        "    print(e)"
      ],
      "outputs": [
        {
          "output_type": "stream",
          "name": "stdout",
          "text": [
            "[Errno 2] No such file or directory: 'some_text.txt'\n"
          ]
        }
      ],
      "metadata": {
        "id": "O6w5QoFFVt-P",
        "colab": {
          "base_uri": "https://localhost:8080/"
        },
        "outputId": "31f838f6-31f2-4eaf-f67d-35bb04c0e517"
      }
    },
    {
      "cell_type": "code",
      "execution_count": null,
      "source": [
        "encoder = {\n",
        "    0:\"zero\",\n",
        "    1:\"one\",\n",
        "    2:\"two\",\n",
        "    3:\"three\",\n",
        "    4:\"four\",\n",
        "    5:\"five\",\n",
        "    6:\"six\",\n",
        "    7:\"seven\",\n",
        "    8:\"eight\",\n",
        "    9:\"nine\",\n",
        "    10:\"ten\",\n",
        "    11:\"eleven\",\n",
        "    12:\"twelve\",\n",
        "    13:\"thirteen\",\n",
        "    14:\"fourteen\",\n",
        "    15:\"fifteen\",\n",
        "    16:\"sixteen\",\n",
        "    17:\"seventeen\",\n",
        "    18:\"eigthteen\",\n",
        "    19:\"nineteen\",\n",
        "    20:\"twenty\",\n",
        "    30:\"thirty\",\n",
        "    40:\"fourty\",\n",
        "    50:\"fifty\",\n",
        "    60:\"sixty\",\n",
        "    70:\"seventy\",\n",
        "    80:\"eighty\",\n",
        "    90:\"ninety\"\n",
        "}\n",
        "print(encoder)"
      ],
      "outputs": [
        {
          "output_type": "stream",
          "name": "stdout",
          "text": [
            "{0: 'zero', 1: 'one', 2: 'two', 3: 'three', 4: 'four', 5: 'five', 6: 'six', 7: 'seven', 8: 'eight', 9: 'nine', 10: 'ten', 11: 'eleven', 12: 'twelve', 13: 'thirteen', 14: 'fourteen', 15: 'fifteen', 16: 'sixteen', 17: 'seventeen', 18: 'eigthteen', 19: 'nineteen', 20: 'twenty', 30: 'thirty', 40: 'fourty', 50: 'fifty', 60: 'sixty', 70: 'seventy', 80: 'eighty', 90: 'ninety'}\n"
          ]
        }
      ],
      "metadata": {
        "colab": {
          "base_uri": "https://localhost:8080/"
        },
        "id": "XyGKwiVzXEYZ",
        "outputId": "d3810af0-1f76-40ad-de4f-960db9ee3ca8"
      }
    },
    {
      "cell_type": "code",
      "execution_count": null,
      "source": [
        "def converter(num:str)->str:\n",
        "    \"\"\"encoder\"\"\"\n",
        "    try:\n",
        "        num_int = int(num)\n",
        "        if num_int <= 20:\n",
        "            return encoder[num_int]\n",
        "        if num_int < 100:\n",
        "            decil, number = divmod(num_int,10)\n",
        "            if number:\n",
        "                return \"{} {}\".format(encoder[decil*10],encoder[number])\n",
        "        else:\n",
        "            num_lentgh = len(num)\n",
        "            if num_lentgh == 3:\n",
        "                if num_int % 100:\n",
        "                    return \"{} hundred {}\".format(converter(num[0]), converter(num[1:]))\n",
        "                else:\n",
        "                    return \"{} hundred\".format(converter(num[0]))\n",
        "            if num_lentgh == 4:\n",
        "                if num_int % 1000 and num_int % 100:\n",
        "                    return \"{} thousand {}\".format(converter(num[0]), converter(num[1:]))\n",
        "                else:\n",
        "                    return \"{} thousand\".format(converter(num[0]))   \n",
        "    except:\n",
        "        return num                 "
      ],
      "outputs": [],
      "metadata": {
        "id": "H8rETpMmXgwg"
      }
    },
    {
      "cell_type": "code",
      "execution_count": null,
      "source": [
        "reduce(lambda x,y: x + \" \" + y,list(map(converter,text.split(\" \"))))"
      ],
      "outputs": [
        {
          "output_type": "execute_result",
          "data": {
            "application/vnd.google.colaboratory.intrinsic+json": {
              "type": "string"
            },
            "text/plain": [
              "'Some Text'"
            ]
          },
          "metadata": {},
          "execution_count": 46
        }
      ],
      "metadata": {
        "colab": {
          "base_uri": "https://localhost:8080/",
          "height": 38
        },
        "id": "3-y-cVY4Z6V0",
        "outputId": "41a259ed-b181-4d31-a819-c00401a4e099"
      }
    },
    {
      "cell_type": "markdown",
      "source": [
        "# Task 2"
      ],
      "metadata": {
        "id": "M53t-K9sLC5f"
      }
    },
    {
      "cell_type": "code",
      "execution_count": null,
      "source": [
        "text = \"Some Text\"\n",
        "def upperchar(char:str)->str:\n",
        "    \"\"\" Upper char \"\"\"\n",
        "\n",
        "    try:\n",
        "        char_ord = ord(char)\n",
        "        if char_ord >= 97:\n",
        "            char = chr(char_ord-32)\n",
        "            return char\n",
        "        else:\n",
        "            return char\n",
        "    except:\n",
        "        return char\n",
        "\n",
        "def upperstring(text:str)->str:\n",
        "    \"\"\" Upper string \"\"\"\n",
        "\n",
        "    text = reduce(lambda x,y: x+y, map(upperchar,text))\n",
        "    return text"
      ],
      "outputs": [],
      "metadata": {
        "id": "DGaZF22View3"
      }
    },
    {
      "cell_type": "markdown",
      "source": [
        "# Task 3"
      ],
      "metadata": {
        "id": "E8KuIya5Lm_j"
      }
    },
    {
      "cell_type": "code",
      "execution_count": null,
      "source": [
        "input_text = \"cat,dog,duck,12314\"\n",
        "tokenizer_regexp = RegexpTokenizer(\"[:punct:]*\")\n",
        "print(f\"regexp tokenizer: {tokenizer_regexp.tokenize(input_text)}\")\n",
        "print(f\"word tokenizer: {word_tokenize(input_text)}\")"
      ],
      "outputs": [
        {
          "output_type": "stream",
          "name": "stdout",
          "text": [
            "regexp tokenizer: ['c', '', 't', '', '', '', '', '', '', 'uc', '', '', '', '', '', '', '', '']\n",
            "word tokenizer: ['cat', ',', 'dog', ',', 'duck,12314']\n"
          ]
        }
      ],
      "metadata": {
        "colab": {
          "base_uri": "https://localhost:8080/"
        },
        "id": "w9xIaszZLS3f",
        "outputId": "5dbe59ba-f31e-4438-f9b4-b76d7255e507"
      }
    },
    {
      "cell_type": "markdown",
      "source": [
        "# Task 4"
      ],
      "metadata": {
        "id": "I_UbqhOcWuLv"
      }
    },
    {
      "cell_type": "code",
      "execution_count": null,
      "source": [
        "input_text = \"cat, cat, cat, dog, dog, duck\"\n",
        "\n",
        "def CountVectorizer(text:str, sep:str)->dict:\n",
        "    \"\"\" Count vectorizer \"\"\"\n",
        "\n",
        "    output = dict()\n",
        "    count = 0 \n",
        "    unique_word = set()\n",
        "    text_splitted = text.split(text)\n",
        "    for word in text_splitted:\n",
        "        temp = len(unique_word)\n",
        "        unique_word.add(word)\n",
        "        if len(unique_word) > temp:\n",
        "            count += 1\n",
        "        else:\n",
        "            out"
      ],
      "outputs": [
        {
          "output_type": "error",
          "ename": "SyntaxError",
          "evalue": "ignored",
          "traceback": [
            "\u001b[0;36m  File \u001b[0;32m\"<ipython-input-93-6e2bf480a9ac>\"\u001b[0;36m, line \u001b[0;32m15\u001b[0m\n\u001b[0;31m    else:\u001b[0m\n\u001b[0m         ^\u001b[0m\n\u001b[0;31mSyntaxError\u001b[0m\u001b[0;31m:\u001b[0m unexpected EOF while parsing\n"
          ]
        }
      ],
      "metadata": {
        "colab": {
          "base_uri": "https://localhost:8080/",
          "height": 134
        },
        "id": "kiiRhwetS225",
        "outputId": "d650d331-370a-41f7-ebc7-ff417a3c5487"
      }
    },
    {
      "cell_type": "code",
      "execution_count": null,
      "source": [],
      "outputs": [],
      "metadata": {
        "id": "GC29Eo8qW952"
      }
    }
  ]
}